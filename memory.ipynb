{
 "cells": [
  {
   "cell_type": "markdown",
   "metadata": {},
   "source": [
    "\n",
    "# Constellation Detecter Using Machine Learning\n",
    "\n",
    "##### Developed By: Mario Martínez Vitutia\n",
    "\n",
    "\n",
    "\n",
    "## Object\n",
    "\n",
    "The aim of this project is to develop and train an AI system capable of detecting constellations in real-time. By leveraging advanced machine learning techniques, the AI will be able to recognize and map star patterns accurately as they appear in the night sky. This technology has potential applications in astronomy education, navigation, and real-time stargazing experiences, enhancing our ability to explore and understand the cosmos."
   ]
  }
 ],
 "metadata": {
  "language_info": {
   "name": "python"
  }
 },
 "nbformat": 4,
 "nbformat_minor": 2
}
